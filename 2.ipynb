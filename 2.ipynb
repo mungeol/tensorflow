{
 "cells": [
  {
   "cell_type": "code",
   "execution_count": 12,
   "metadata": {},
   "outputs": [
    {
     "name": "stdout",
     "output_type": "stream",
     "text": [
      "1.15.0\n"
     ]
    }
   ],
   "source": [
    "from google.cloud import bigquery\n",
    "import tensorflow as tf\n",
    "import numpy as np\n",
    "import shutil\n",
    "print(tf.__version__)"
   ]
  },
  {
   "cell_type": "code",
   "execution_count": 11,
   "metadata": {},
   "outputs": [],
   "source": [
    "CSV_COLUMNS = 'Time,V1,V2,V3,V4,V5,V6,V7,V8,V9,V10,V11,V12,V13,V14,V15,V16,V17,V18,V19,V20,V21,V22,V23,V24,V25,V26,V27,V28,Amount,Class'.split(',')\n",
    "FEATURES_COLUMNS = CSV_COLUMNS[:len(CSV_COLUMNS) - 1]\n",
    "LABEL_COLUMN = 'Class'\n",
    "DEFAULTS = [[0.0] for i in range(31)]"
   ]
  },
  {
   "cell_type": "code",
   "execution_count": 5,
   "metadata": {},
   "outputs": [],
   "source": [
    "def read_dataset(filename, mode, batch_size = 512):\n",
    "    def _input_fn():\n",
    "        def decode_csv(value_column):\n",
    "            columns = tf.decode_csv(value_column, record_defaults = DEFAULTS)\n",
    "            features = dict(zip(CSV_COLUMNS, columns))\n",
    "            label = features.pop(LABEL_COLUMN)\n",
    "            # No need to features.pop('key') since it is not specified in the INPUT_COLUMNS.\n",
    "            # The key passes through the graph unused.\n",
    "            return features, label\n",
    "\n",
    "        # Create list of file names that match \"glob\" pattern (i.e. data_file_*.csv)\n",
    "        filenames_dataset = tf.data.Dataset.list_files(filename)\n",
    "        # Read lines from text files\n",
    "        textlines_dataset = filenames_dataset.flat_map(tf.data.TextLineDataset)\n",
    "        # Parse text lines as comma-separated values (CSV)\n",
    "        dataset = textlines_dataset.map(decode_csv)\n",
    "\n",
    "        # Note:\n",
    "        # use tf.data.Dataset.flat_map to apply one to many transformations (here: filename -> text lines)\n",
    "        # use tf.data.Dataset.map      to apply one to one  transformations (here: text line -> feature list)\n",
    "\n",
    "        if mode == tf.estimator.ModeKeys.TRAIN:\n",
    "            num_epochs = None # indefinitely\n",
    "            dataset = dataset.shuffle(buffer_size = 10 * batch_size)\n",
    "        else:\n",
    "            num_epochs = 1 # end-of-input after this\n",
    "\n",
    "        dataset = dataset.repeat(num_epochs).batch(batch_size)\n",
    "      \n",
    "        return dataset\n",
    "    return _input_fn"
   ]
  },
  {
   "cell_type": "code",
   "execution_count": 6,
   "metadata": {},
   "outputs": [],
   "source": [
    "INPUT_COLUMNS = [tf.feature_column.numeric_column(key) for key in FEATURES_COLUMNS]\n",
    "\n",
    "def add_more_features(feats):\n",
    "    # Nothing to add (yet!)\n",
    "    return feats\n",
    "\n",
    "feature_cols = add_more_features(INPUT_COLUMNS)"
   ]
  },
  {
   "cell_type": "code",
   "execution_count": 7,
   "metadata": {},
   "outputs": [],
   "source": [
    "def serving_input_fn():\n",
    "    feature_placeholders = {\n",
    "        key: tf.placeholder(tf.float32, [None]) for key in FEATURES_COLUMNS\n",
    "    }\n",
    "    features = feature_placeholders\n",
    "    return tf.estimator.export.ServingInputReceiver(features, feature_placeholders)"
   ]
  },
  {
   "cell_type": "code",
   "execution_count": 8,
   "metadata": {},
   "outputs": [],
   "source": [
    "def train_and_evaluate(output_dir, num_train_steps):\n",
    "    estimator = tf.estimator.LinearClassifier(\n",
    "                       model_dir = output_dir,\n",
    "                       feature_columns = feature_cols)\n",
    "    \n",
    "    train_spec=tf.estimator.TrainSpec(\n",
    "                       input_fn = read_dataset('data/creditcard_train.csv', mode = tf.estimator.ModeKeys.TRAIN),\n",
    "                       max_steps = num_train_steps)\n",
    "\n",
    "    exporter = tf.estimator.LatestExporter('exporter', serving_input_fn)\n",
    "\n",
    "    eval_spec=tf.estimator.EvalSpec(\n",
    "                       input_fn = read_dataset('data/creditcard_test.csv', mode = tf.estimator.ModeKeys.EVAL),\n",
    "                       steps = None,\n",
    "                       start_delay_secs = 1, # start evaluating after N seconds\n",
    "                       throttle_secs = 10,  # evaluate every N seconds\n",
    "                       exporters = exporter)\n",
    "    \n",
    "    tf.estimator.train_and_evaluate(estimator, train_spec, eval_spec)"
   ]
  },
  {
   "cell_type": "code",
   "execution_count": 9,
   "metadata": {},
   "outputs": [],
   "source": [
    "OUTDIR = './creditcard_trained'"
   ]
  },
  {
   "cell_type": "code",
   "execution_count": 10,
   "metadata": {},
   "outputs": [
    {
     "name": "stdout",
     "output_type": "stream",
     "text": [
      "INFO:tensorflow:Using default config.\n",
      "INFO:tensorflow:Using config: {'_save_checkpoints_secs': 600, '_tf_random_seed': None, '_train_distribute': None, '_log_step_count_steps': 100, '_model_dir': './creditcard_trained', '_service': None, '_cluster_spec': <tensorflow.python.training.server_lib.ClusterSpec object at 0x7fefd926df60>, '_session_creation_timeout_secs': 7200, '_master': '', '_global_id_in_cluster': 0, '_session_config': allow_soft_placement: true\n",
      "graph_options {\n",
      "  rewrite_options {\n",
      "    meta_optimizer_iterations: ONE\n",
      "  }\n",
      "}\n",
      ", '_evaluation_master': '', '_keep_checkpoint_max': 5, '_save_checkpoints_steps': None, '_protocol': None, '_task_type': 'worker', '_keep_checkpoint_every_n_hours': 10000, '_num_ps_replicas': 0, '_experimental_max_worker_delay_secs': None, '_experimental_distribute': None, '_num_worker_replicas': 1, '_save_summary_steps': 100, '_eval_distribute': None, '_task_id': 0, '_is_chief': True, '_device_fn': None}\n",
      "INFO:tensorflow:Not using Distribute Coordinator.\n",
      "INFO:tensorflow:Running training and evaluation locally (non-distributed).\n",
      "INFO:tensorflow:Start train and evaluate loop. The evaluate will happen after every checkpoint. Checkpoint frequency is determined based on RunConfig arguments: save_checkpoints_steps None or save_checkpoints_secs 600.\n",
      "WARNING:tensorflow:From /usr/local/lib/python3.5/dist-packages/tensorflow_core/python/training/training_util.py:236: Variable.initialized_value (from tensorflow.python.ops.variables) is deprecated and will be removed in a future version.\n",
      "Instructions for updating:\n",
      "Use Variable.read_value. Variables in 2.X are initialized automatically both in eager and graph (inside tf.defun) contexts.\n",
      "WARNING:tensorflow:From /usr/local/lib/python3.5/dist-packages/tensorflow_core/python/autograph/converters/directives.py:119: The name tf.decode_csv is deprecated. Please use tf.io.decode_csv instead.\n",
      "\n",
      "INFO:tensorflow:Calling model_fn.\n",
      "WARNING:tensorflow:From /usr/local/lib/python3.5/dist-packages/tensorflow_core/python/feature_column/feature_column_v2.py:305: Layer.add_variable (from tensorflow.python.keras.engine.base_layer) is deprecated and will be removed in a future version.\n",
      "Instructions for updating:\n",
      "Please use `layer.add_weight` method instead.\n",
      "WARNING:tensorflow:From /usr/local/lib/python3.5/dist-packages/tensorflow_core/python/ops/resource_variable_ops.py:1630: calling BaseResourceVariable.__init__ (from tensorflow.python.ops.resource_variable_ops) with constraint is deprecated and will be removed in a future version.\n",
      "Instructions for updating:\n",
      "If using Keras pass *_constraint arguments to layers.\n",
      "WARNING:tensorflow:From /usr/local/lib/python3.5/dist-packages/tensorflow_estimator/python/estimator/canned/linear.py:308: to_float (from tensorflow.python.ops.math_ops) is deprecated and will be removed in a future version.\n",
      "Instructions for updating:\n",
      "Use `tf.cast` instead.\n",
      "WARNING:tensorflow:From /usr/local/lib/python3.5/dist-packages/tensorflow_core/python/ops/nn_impl.py:183: where (from tensorflow.python.ops.array_ops) is deprecated and will be removed in a future version.\n",
      "Instructions for updating:\n",
      "Use tf.where in 2.0, which has the same broadcast rule as np.where\n",
      "INFO:tensorflow:Done calling model_fn.\n",
      "INFO:tensorflow:Create CheckpointSaverHook.\n",
      "INFO:tensorflow:Graph was finalized.\n",
      "INFO:tensorflow:Running local_init_op.\n",
      "INFO:tensorflow:Done running local_init_op.\n",
      "INFO:tensorflow:Saving checkpoints for 0 into ./creditcard_trained/model.ckpt.\n",
      "INFO:tensorflow:loss = 354.89136, step = 0\n",
      "INFO:tensorflow:Saving checkpoints for 100 into ./creditcard_trained/model.ckpt.\n",
      "INFO:tensorflow:Calling model_fn.\n",
      "WARNING:tensorflow:From /usr/local/lib/python3.5/dist-packages/tensorflow_core/python/ops/metrics_impl.py:2026: div (from tensorflow.python.ops.math_ops) is deprecated and will be removed in a future version.\n",
      "Instructions for updating:\n",
      "Deprecated in favor of operator or tf.math.divide.\n",
      "WARNING:tensorflow:Trapezoidal rule is known to produce incorrect PR-AUCs; please switch to \"careful_interpolation\" instead.\n",
      "WARNING:tensorflow:Trapezoidal rule is known to produce incorrect PR-AUCs; please switch to \"careful_interpolation\" instead.\n",
      "INFO:tensorflow:Done calling model_fn.\n",
      "INFO:tensorflow:Starting evaluation at 2019-12-09T07:01:46Z\n",
      "INFO:tensorflow:Graph was finalized.\n",
      "INFO:tensorflow:Restoring parameters from ./creditcard_trained/model.ckpt-100\n",
      "INFO:tensorflow:Running local_init_op.\n",
      "INFO:tensorflow:Done running local_init_op.\n",
      "INFO:tensorflow:Finished evaluation at 2019-12-09-07:01:57\n",
      "INFO:tensorflow:Saving dict for global step 100: accuracy = 0.99827254, accuracy_baseline = 0.99827254, auc = 0.49996483, auc_precision_recall = 0.00086383976, average_loss = 30.22223, global_step = 100, label/mean = 0.0017274795, loss = 15370.595, precision = 0.0, prediction/mean = 3.9736037e-06, recall = 0.0\n",
      "INFO:tensorflow:Saving 'checkpoint_path' summary for global step 100: ./creditcard_trained/model.ckpt-100\n",
      "INFO:tensorflow:Calling model_fn.\n",
      "INFO:tensorflow:Done calling model_fn.\n",
      "WARNING:tensorflow:From /usr/local/lib/python3.5/dist-packages/tensorflow_core/python/saved_model/signature_def_utils_impl.py:201: build_tensor_info (from tensorflow.python.saved_model.utils_impl) is deprecated and will be removed in a future version.\n",
      "Instructions for updating:\n",
      "This function will only be available through the v1 compatibility library as tf.compat.v1.saved_model.utils.build_tensor_info or tf.compat.v1.saved_model.build_tensor_info.\n",
      "INFO:tensorflow:Signatures INCLUDED in export for Regress: None\n",
      "INFO:tensorflow:Signatures INCLUDED in export for Classify: None\n",
      "INFO:tensorflow:Signatures INCLUDED in export for Predict: ['predict']\n",
      "INFO:tensorflow:Signatures INCLUDED in export for Train: None\n",
      "INFO:tensorflow:Signatures INCLUDED in export for Eval: None\n",
      "INFO:tensorflow:Signatures EXCLUDED from export because they cannot be be served via TensorFlow Serving APIs:\n",
      "INFO:tensorflow:'regression' : Regression input must be a single string Tensor; got {'V3': <tf.Tensor 'Placeholder_3:0' shape=(?,) dtype=float32>, 'V13': <tf.Tensor 'Placeholder_13:0' shape=(?,) dtype=float32>, 'Amount': <tf.Tensor 'Placeholder_29:0' shape=(?,) dtype=float32>, 'V14': <tf.Tensor 'Placeholder_14:0' shape=(?,) dtype=float32>, 'V7': <tf.Tensor 'Placeholder_7:0' shape=(?,) dtype=float32>, 'V25': <tf.Tensor 'Placeholder_25:0' shape=(?,) dtype=float32>, 'V27': <tf.Tensor 'Placeholder_27:0' shape=(?,) dtype=float32>, 'V26': <tf.Tensor 'Placeholder_26:0' shape=(?,) dtype=float32>, 'Time': <tf.Tensor 'Placeholder:0' shape=(?,) dtype=float32>, 'V24': <tf.Tensor 'Placeholder_24:0' shape=(?,) dtype=float32>, 'V9': <tf.Tensor 'Placeholder_9:0' shape=(?,) dtype=float32>, 'V6': <tf.Tensor 'Placeholder_6:0' shape=(?,) dtype=float32>, 'V21': <tf.Tensor 'Placeholder_21:0' shape=(?,) dtype=float32>, 'V4': <tf.Tensor 'Placeholder_4:0' shape=(?,) dtype=float32>, 'V2': <tf.Tensor 'Placeholder_2:0' shape=(?,) dtype=float32>, 'V1': <tf.Tensor 'Placeholder_1:0' shape=(?,) dtype=float32>, 'V15': <tf.Tensor 'Placeholder_15:0' shape=(?,) dtype=float32>, 'V12': <tf.Tensor 'Placeholder_12:0' shape=(?,) dtype=float32>, 'V22': <tf.Tensor 'Placeholder_22:0' shape=(?,) dtype=float32>, 'V20': <tf.Tensor 'Placeholder_20:0' shape=(?,) dtype=float32>, 'V5': <tf.Tensor 'Placeholder_5:0' shape=(?,) dtype=float32>, 'V16': <tf.Tensor 'Placeholder_16:0' shape=(?,) dtype=float32>, 'V11': <tf.Tensor 'Placeholder_11:0' shape=(?,) dtype=float32>, 'V28': <tf.Tensor 'Placeholder_28:0' shape=(?,) dtype=float32>, 'V18': <tf.Tensor 'Placeholder_18:0' shape=(?,) dtype=float32>, 'V8': <tf.Tensor 'Placeholder_8:0' shape=(?,) dtype=float32>, 'V10': <tf.Tensor 'Placeholder_10:0' shape=(?,) dtype=float32>, 'V19': <tf.Tensor 'Placeholder_19:0' shape=(?,) dtype=float32>, 'V23': <tf.Tensor 'Placeholder_23:0' shape=(?,) dtype=float32>, 'V17': <tf.Tensor 'Placeholder_17:0' shape=(?,) dtype=float32>}\n",
      "INFO:tensorflow:'classification' : Classification input must be a single string Tensor; got {'V3': <tf.Tensor 'Placeholder_3:0' shape=(?,) dtype=float32>, 'V13': <tf.Tensor 'Placeholder_13:0' shape=(?,) dtype=float32>, 'Amount': <tf.Tensor 'Placeholder_29:0' shape=(?,) dtype=float32>, 'V14': <tf.Tensor 'Placeholder_14:0' shape=(?,) dtype=float32>, 'V7': <tf.Tensor 'Placeholder_7:0' shape=(?,) dtype=float32>, 'V25': <tf.Tensor 'Placeholder_25:0' shape=(?,) dtype=float32>, 'V27': <tf.Tensor 'Placeholder_27:0' shape=(?,) dtype=float32>, 'V26': <tf.Tensor 'Placeholder_26:0' shape=(?,) dtype=float32>, 'Time': <tf.Tensor 'Placeholder:0' shape=(?,) dtype=float32>, 'V24': <tf.Tensor 'Placeholder_24:0' shape=(?,) dtype=float32>, 'V9': <tf.Tensor 'Placeholder_9:0' shape=(?,) dtype=float32>, 'V6': <tf.Tensor 'Placeholder_6:0' shape=(?,) dtype=float32>, 'V21': <tf.Tensor 'Placeholder_21:0' shape=(?,) dtype=float32>, 'V4': <tf.Tensor 'Placeholder_4:0' shape=(?,) dtype=float32>, 'V2': <tf.Tensor 'Placeholder_2:0' shape=(?,) dtype=float32>, 'V1': <tf.Tensor 'Placeholder_1:0' shape=(?,) dtype=float32>, 'V15': <tf.Tensor 'Placeholder_15:0' shape=(?,) dtype=float32>, 'V12': <tf.Tensor 'Placeholder_12:0' shape=(?,) dtype=float32>, 'V22': <tf.Tensor 'Placeholder_22:0' shape=(?,) dtype=float32>, 'V20': <tf.Tensor 'Placeholder_20:0' shape=(?,) dtype=float32>, 'V5': <tf.Tensor 'Placeholder_5:0' shape=(?,) dtype=float32>, 'V16': <tf.Tensor 'Placeholder_16:0' shape=(?,) dtype=float32>, 'V11': <tf.Tensor 'Placeholder_11:0' shape=(?,) dtype=float32>, 'V28': <tf.Tensor 'Placeholder_28:0' shape=(?,) dtype=float32>, 'V18': <tf.Tensor 'Placeholder_18:0' shape=(?,) dtype=float32>, 'V8': <tf.Tensor 'Placeholder_8:0' shape=(?,) dtype=float32>, 'V10': <tf.Tensor 'Placeholder_10:0' shape=(?,) dtype=float32>, 'V19': <tf.Tensor 'Placeholder_19:0' shape=(?,) dtype=float32>, 'V23': <tf.Tensor 'Placeholder_23:0' shape=(?,) dtype=float32>, 'V17': <tf.Tensor 'Placeholder_17:0' shape=(?,) dtype=float32>}\n",
      "INFO:tensorflow:'serving_default' : Classification input must be a single string Tensor; got {'V3': <tf.Tensor 'Placeholder_3:0' shape=(?,) dtype=float32>, 'V13': <tf.Tensor 'Placeholder_13:0' shape=(?,) dtype=float32>, 'Amount': <tf.Tensor 'Placeholder_29:0' shape=(?,) dtype=float32>, 'V14': <tf.Tensor 'Placeholder_14:0' shape=(?,) dtype=float32>, 'V7': <tf.Tensor 'Placeholder_7:0' shape=(?,) dtype=float32>, 'V25': <tf.Tensor 'Placeholder_25:0' shape=(?,) dtype=float32>, 'V27': <tf.Tensor 'Placeholder_27:0' shape=(?,) dtype=float32>, 'V26': <tf.Tensor 'Placeholder_26:0' shape=(?,) dtype=float32>, 'Time': <tf.Tensor 'Placeholder:0' shape=(?,) dtype=float32>, 'V24': <tf.Tensor 'Placeholder_24:0' shape=(?,) dtype=float32>, 'V9': <tf.Tensor 'Placeholder_9:0' shape=(?,) dtype=float32>, 'V6': <tf.Tensor 'Placeholder_6:0' shape=(?,) dtype=float32>, 'V21': <tf.Tensor 'Placeholder_21:0' shape=(?,) dtype=float32>, 'V4': <tf.Tensor 'Placeholder_4:0' shape=(?,) dtype=float32>, 'V2': <tf.Tensor 'Placeholder_2:0' shape=(?,) dtype=float32>, 'V1': <tf.Tensor 'Placeholder_1:0' shape=(?,) dtype=float32>, 'V15': <tf.Tensor 'Placeholder_15:0' shape=(?,) dtype=float32>, 'V12': <tf.Tensor 'Placeholder_12:0' shape=(?,) dtype=float32>, 'V22': <tf.Tensor 'Placeholder_22:0' shape=(?,) dtype=float32>, 'V20': <tf.Tensor 'Placeholder_20:0' shape=(?,) dtype=float32>, 'V5': <tf.Tensor 'Placeholder_5:0' shape=(?,) dtype=float32>, 'V16': <tf.Tensor 'Placeholder_16:0' shape=(?,) dtype=float32>, 'V11': <tf.Tensor 'Placeholder_11:0' shape=(?,) dtype=float32>, 'V28': <tf.Tensor 'Placeholder_28:0' shape=(?,) dtype=float32>, 'V18': <tf.Tensor 'Placeholder_18:0' shape=(?,) dtype=float32>, 'V8': <tf.Tensor 'Placeholder_8:0' shape=(?,) dtype=float32>, 'V10': <tf.Tensor 'Placeholder_10:0' shape=(?,) dtype=float32>, 'V19': <tf.Tensor 'Placeholder_19:0' shape=(?,) dtype=float32>, 'V23': <tf.Tensor 'Placeholder_23:0' shape=(?,) dtype=float32>, 'V17': <tf.Tensor 'Placeholder_17:0' shape=(?,) dtype=float32>}\n",
      "WARNING:tensorflow:Export includes no default signature!\n",
      "INFO:tensorflow:Restoring parameters from ./creditcard_trained/model.ckpt-100\n",
      "INFO:tensorflow:Assets added to graph.\n",
      "INFO:tensorflow:No assets to write.\n",
      "INFO:tensorflow:SavedModel written to: ./creditcard_trained/export/exporter/temp-b'1575874917'/saved_model.pb\n",
      "INFO:tensorflow:Loss for final step: 0.0.\n"
     ]
    }
   ],
   "source": [
    "# Run training    \n",
    "shutil.rmtree(OUTDIR, ignore_errors = True) # start fresh each time\n",
    "tf.summary.FileWriterCache.clear() # ensure filewriter cache is clear for TensorBoard events file\n",
    "train_and_evaluate(OUTDIR, num_train_steps = 100)"
   ]
  },
  {
   "cell_type": "code",
   "execution_count": null,
   "metadata": {},
   "outputs": [],
   "source": []
  }
 ],
 "metadata": {
  "kernelspec": {
   "display_name": "Python 3",
   "language": "python",
   "name": "python3"
  },
  "language_info": {
   "codemirror_mode": {
    "name": "ipython",
    "version": 3
   },
   "file_extension": ".py",
   "mimetype": "text/x-python",
   "name": "python",
   "nbconvert_exporter": "python",
   "pygments_lexer": "ipython3",
   "version": "3.5.3"
  }
 },
 "nbformat": 4,
 "nbformat_minor": 4
}
